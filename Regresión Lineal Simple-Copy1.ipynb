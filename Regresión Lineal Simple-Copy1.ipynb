{
 "cells": [
  {
   "cell_type": "code",
   "execution_count": 1,
   "metadata": {},
   "outputs": [],
   "source": [
    "import numpy as np\n",
    "import pandas as pd\n",
    "from pandas import DataFrame\n",
    "import matplotlib.pyplot as ptl\n",
    "from bokeh.plotting import figure, output_file, show\n",
    "from sklearn.model_selection import train_test_split\n",
    "from sklearn.linear_model import LinearRegression"
   ]
  },
  {
   "cell_type": "code",
   "execution_count": 14,
   "metadata": {},
   "outputs": [
    {
     "name": "stdout",
     "output_type": "stream",
     "text": [
      "    Aexperiencia  Salario\n",
      "0           10.0    42500\n",
      "1            8.0    36302\n",
      "2            5.4    35000\n",
      "3            2.5    18103\n",
      "4            1.0    15000\n",
      "5            8.0    37000\n",
      "6            4.0    26300\n",
      "7            6.0    35201\n",
      "8            2.0    18302\n",
      "9           10.0    42000\n",
      "10           4.0    27000\n",
      "11           7.0    35201\n",
      "12           3.0    19201\n",
      "13           5.0    28000\n",
      "14           2.0    17000\n",
      "15           5.0    33402\n",
      "16           3.0    19000\n",
      "17           2.0    18200\n",
      "18           3.0    19000\n",
      "19           2.0    17301\n",
      "20           5.0    28000\n",
      "21           3.4    20000\n",
      "22           5.3    27900\n",
      "23           2.1    17500\n",
      "24           9.2    40000\n",
      "25          10.0    42500\n",
      "26           3.2    18300\n",
      "27          10.0    40000\n",
      "28           4.0    25000\n",
      "29           1.0    15000\n"
     ]
    }
   ],
   "source": [
    "#Declarando el dataset, toda la información es sacada de \"salarios.csv\"\n",
    "dataset = pd.read_csv(\"salarios.csv\")\n",
    "print(dataset)"
   ]
  },
  {
   "cell_type": "code",
   "execution_count": 13,
   "metadata": {
    "scrolled": false
   },
   "outputs": [
    {
     "name": "stdout",
     "output_type": "stream",
     "text": [
      "[[10. ]\n",
      " [ 8. ]\n",
      " [ 5.4]\n",
      " [ 2.5]\n",
      " [ 1. ]\n",
      " [ 8. ]\n",
      " [ 4. ]\n",
      " [ 6. ]\n",
      " [ 2. ]\n",
      " [10. ]\n",
      " [ 4. ]\n",
      " [ 7. ]\n",
      " [ 3. ]\n",
      " [ 5. ]\n",
      " [ 2. ]\n",
      " [ 5. ]\n",
      " [ 3. ]\n",
      " [ 2. ]\n",
      " [ 3. ]\n",
      " [ 2. ]\n",
      " [ 5. ]\n",
      " [ 3.4]\n",
      " [ 5.3]\n",
      " [ 2.1]\n",
      " [ 9.2]\n",
      " [10. ]\n",
      " [ 3.2]\n",
      " [10. ]\n",
      " [ 4. ]\n",
      " [ 1. ]]\n"
     ]
    }
   ],
   "source": [
    "#Separando el dataset por tuplas. \"x\" es experiecia, \"y\" es salario.\n",
    "x = dataset.iloc[:, :-1].values #xp\n",
    "y = dataset.iloc[:, 1].values #sal\n",
    "\n",
    "print(x)"
   ]
  },
  {
   "cell_type": "code",
   "execution_count": 4,
   "metadata": {},
   "outputs": [],
   "source": [
    "#Declaramiento para posteriormente hacer la regresión lineal.\n",
    "X_train, X_test, Y_train, Y_test = train_test_split(x, y, test_size=0.2, random_state=0)\n",
    "\n",
    "#Queda pendiente asignar una variable para cada dataframe\n",
    "# https://platzi.com/clases/1708-fundamentos-ml/23052-regresion-lineal-simple-con-scikit-learn-division-/"
   ]
  },
  {
   "cell_type": "code",
   "execution_count": 5,
   "metadata": {},
   "outputs": [],
   "source": [
    "# #Gráfica de los datos.\n",
    "# output_file(\"graficadosimple.html\")\n",
    "# fig = figure()\n",
    "# #fig.line(x, y, line_width=2)\n",
    "# fig.circle(x, y, size=10, color=\"navy\", alpha=0.5)\n",
    "# show(fig)"
   ]
  },
  {
   "cell_type": "code",
   "execution_count": 6,
   "metadata": {},
   "outputs": [
    {
     "data": {
      "text/plain": [
       "LinearRegression()"
      ]
     },
     "execution_count": 6,
     "metadata": {},
     "output_type": "execute_result"
    }
   ],
   "source": [
    "#Regresión líneal.\n",
    "\n",
    "regressor = LinearRegression()\n",
    "regressor.fit(X_train, Y_train)"
   ]
  },
  {
   "cell_type": "raw",
   "metadata": {},
   "source": [
    "#Entrenamiento\n",
    "\n",
    "viz_train = ptl\n",
    "viz_train.scatter(X_train, Y_train, color = 'blue')\n",
    "viz_train.plot(X_train, regressor.predict(X_train), color = 'black')\n",
    "viz_train.title('Salario/Experiencia')\n",
    "viz_train.xlabel('Experiencia')\n",
    "viz_train.ylabel('Salario')\n",
    "viz_train.show()"
   ]
  },
  {
   "cell_type": "code",
   "execution_count": 7,
   "metadata": {},
   "outputs": [
    {
     "data": {
      "image/png": "[encoded data removed]",
      "text/plain": [
       "<Figure size 432x288 with 1 Axes>"
      ]
     },
     "metadata": {
      "needs_background": "light"
     },
     "output_type": "display_data"
    }
   ],
   "source": [
    "#Test\n",
    "\n",
    "viz_train = ptl\n",
    "viz_train.scatter(X_test, Y_test, color = 'red')\n",
    "viz_train.plot(X_train, regressor.predict(X_train), color = 'black')\n",
    "viz_train.title('Salario/Experiencia')\n",
    "viz_train.xlabel('Experiencia')\n",
    "viz_train.ylabel('Salario')\n",
    "viz_train.show()"
   ]
  },
  {
   "cell_type": "code",
   "execution_count": 44,
   "metadata": {},
   "outputs": [
    {
     "data": {
      "text/plain": [
       "0.7862437374732997"
      ]
     },
     "execution_count": 44,
     "metadata": {},
     "output_type": "execute_result"
    }
   ],
   "source": [
    "#Porcentaje de datos que se ajustan a la predicción\n",
    "regressor.score(X_test, Y_test)"
   ]
  },
  {
   "cell_type": "code",
   "execution_count": null,
   "metadata": {},
   "outputs": [],
   "source": []
  }
 ],
 "metadata": {
  "kernelspec": {
   "display_name": "Python 3",
   "language": "python",
   "name": "python3"
  },
  "language_info": {
   "codemirror_mode": {
    "name": "ipython",
    "version": 3
   },
   "file_extension": ".py",
   "mimetype": "text/x-python",
   "name": "python",
   "nbconvert_exporter": "python",
   "pygments_lexer": "ipython3",
   "version": "3.8.3"
  }
 },
 "nbformat": 4,
 "nbformat_minor": 4
}
