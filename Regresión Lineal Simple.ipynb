{
 "cells": [
  {
   "cell_type": "code",
   "execution_count": 5,
   "metadata": {},
   "outputs": [],
   "source": [
    "import numpy as np\n",
    "import pandas as pd\n",
    "from bokeh.plotting import figure, output_file, show\n",
    "from sklearn.model_selection import train_test_split\n",
    "from sklearn.linear_model import LinearRegression"
   ]
  },
  {
   "cell_type": "code",
   "execution_count": 6,
   "metadata": {},
   "outputs": [],
   "source": [
    "#Declarando el dataset, toda la información es sacada de \"salarios.csv\"\n",
    "dataset = pd.read_csv(\"salarios.csv\")"
   ]
  },
  {
   "cell_type": "code",
   "execution_count": 7,
   "metadata": {},
   "outputs": [
    {
     "name": "stdout",
     "output_type": "stream",
     "text": [
      "    Aexperiencia  Salario\n",
      "0           10.0    42500\n",
      "1            8.0    36302\n",
      "2            5.4    35000\n",
      "3            2.5    18103\n",
      "4            1.0    15000\n",
      "5            8.0    37000\n",
      "6            4.0    26300\n",
      "7            6.0    35201\n",
      "8            2.0    18302\n",
      "9           10.0    42000\n",
      "10           4.0    27000\n",
      "11           7.0    35201\n",
      "12           3.0    19201\n",
      "13           5.0    28000\n",
      "14           2.0    17000\n",
      "15           5.0    33402\n",
      "16           3.0    19000\n",
      "17           2.0    18200\n",
      "18           3.0    19000\n",
      "19           2.0    17301\n",
      "20           5.0    28000\n",
      "21           3.4    20000\n",
      "22           5.3    27900\n",
      "23           2.1    17500\n",
      "24           9.2    40000\n",
      "25          10.0    42500\n",
      "26           3.2    18300\n",
      "27          10.0    40000\n",
      "28           4.0    25000\n",
      "29           1.0    15000\n"
     ]
    }
   ],
   "source": [
    "#El dataset, así es originalmente.\n",
    "print(dataset)"
   ]
  },
  {
   "cell_type": "code",
   "execution_count": 142,
   "metadata": {},
   "outputs": [],
   "source": [
    "#Ordenando el dataset por salario por orden ascendente.\n",
    "ordenamiento = dataset.sort_values(by=['Salario'], ignore_index=True)"
   ]
  },
  {
   "cell_type": "code",
   "execution_count": 183,
   "metadata": {
    "scrolled": false
   },
   "outputs": [],
   "source": [
    "#Separando el dataset por tuplas. \"x\" es experiecia, \"y\" es salario.\n",
    "x = ordenamiento.iloc[:,0].values #xp\n",
    "y = ordenamiento.iloc[:,1].values #sal"
   ]
  },
  {
   "cell_type": "code",
   "execution_count": 184,
   "metadata": {},
   "outputs": [],
   "source": [
    "#Declaramiento para posteriormente hacer la regresión lineal.+\n",
    "X_train, X_test, Y_train, Y_test = train_test_split(x, y, test_size=0.2, random_state=0)"
   ]
  },
  {
   "cell_type": "code",
   "execution_count": 185,
   "metadata": {},
   "outputs": [],
   "source": [
    "#Gráfica de los datos.\n",
    "output_file(\"graficadosimple.html\")\n",
    "fig = figure()\n",
    "#fig.line(x, y, line_width=2)\n",
    "fig.circle(x, y, size=10, color=\"navy\", alpha=0.5)\n",
    "show(fig)"
   ]
  },
  {
   "cell_type": "code",
   "execution_count": 186,
   "metadata": {
    "scrolled": false
   },
   "outputs": [
    {
     "name": "stdout",
     "output_type": "stream",
     "text": [
      "10.0 42000\n",
      "3.0 19201\n",
      "5.0 28000\n",
      "6.0 35201\n",
      "2.5 18103\n",
      "5.3 27900\n",
      "2.0 18302\n",
      "4.0 26300\n",
      "8.0 36302\n",
      "5.4 35000\n"
     ]
    }
   ],
   "source": [
    "aver = list(range(10))\n",
    "\n",
    "for i in aver:\n",
    "    print(X_train[i], Y_train[i])"
   ]
  },
  {
   "cell_type": "code",
   "execution_count": 181,
   "metadata": {},
   "outputs": [
    {
     "ename": "AttributeError",
     "evalue": "'list' object has no attribute 'reshape'",
     "output_type": "error",
     "traceback": [
      "\u001b[1;31m---------------------------------------------------------------------------\u001b[0m",
      "\u001b[1;31mAttributeError\u001b[0m                            Traceback (most recent call last)",
      "\u001b[1;32m<ipython-input-181-2f1ee53cdfd6>\u001b[0m in \u001b[0;36m<module>\u001b[1;34m\u001b[0m\n\u001b[0;32m      2\u001b[0m \u001b[1;33m\u001b[0m\u001b[0m\n\u001b[0;32m      3\u001b[0m \u001b[0mregressor\u001b[0m \u001b[1;33m=\u001b[0m \u001b[0mLinearRegression\u001b[0m\u001b[1;33m(\u001b[0m\u001b[1;33m)\u001b[0m\u001b[1;33m\u001b[0m\u001b[1;33m\u001b[0m\u001b[0m\n\u001b[1;32m----> 4\u001b[1;33m \u001b[0mregressor\u001b[0m\u001b[1;33m.\u001b[0m\u001b[0mfit\u001b[0m\u001b[1;33m(\u001b[0m\u001b[0mX_train\u001b[0m\u001b[1;33m.\u001b[0m\u001b[0mreshape\u001b[0m\u001b[1;33m(\u001b[0m\u001b[1;33m-\u001b[0m\u001b[1;36m1\u001b[0m\u001b[1;33m,\u001b[0m \u001b[1;36m1\u001b[0m\u001b[1;33m)\u001b[0m\u001b[1;33m,\u001b[0m \u001b[0mY_train\u001b[0m\u001b[1;33m)\u001b[0m\u001b[1;33m\u001b[0m\u001b[1;33m\u001b[0m\u001b[0m\n\u001b[0m",
      "\u001b[1;31mAttributeError\u001b[0m: 'list' object has no attribute 'reshape'"
     ]
    }
   ],
   "source": [
    "#Regresión líneal.\n",
    "\n",
    "regressor = LinearRegression()\n",
    "regressor.fit(X_train.reshape(-1, 1), Y_train)"
   ]
  },
  {
   "cell_type": "code",
   "execution_count": 187,
   "metadata": {},
   "outputs": [
    {
     "data": {
      "text/plain": [
       "array([42000, 19201, 28000, 35201, 18103, 27900, 18302, 26300, 36302,\n",
       "       35000, 15000, 42500, 18200, 17500, 28000, 33402, 19000, 18300,\n",
       "       40000, 17301, 15000, 35201, 27000, 20000], dtype=int64)"
      ]
     },
     "execution_count": 187,
     "metadata": {},
     "output_type": "execute_result"
    }
   ],
   "source": [
    "Y_train"
   ]
  },
  {
   "cell_type": "code",
   "execution_count": null,
   "metadata": {},
   "outputs": [],
   "source": []
  }
 ],
 "metadata": {
  "kernelspec": {
   "display_name": "Python 3",
   "language": "python",
   "name": "python3"
  },
  "language_info": {
   "codemirror_mode": {
    "name": "ipython",
    "version": 3
   },
   "file_extension": ".py",
   "mimetype": "text/x-python",
   "name": "python",
   "nbconvert_exporter": "python",
   "pygments_lexer": "ipython3",
   "version": "3.8.3"
  }
 },
 "nbformat": 4,
 "nbformat_minor": 4
}
