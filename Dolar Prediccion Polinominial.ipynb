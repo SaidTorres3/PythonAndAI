{
 "cells": [
  {
   "cell_type": "code",
   "execution_count": 2,
   "metadata": {},
   "outputs": [],
   "source": [
    "import numpy as np\n",
    "import pandas as pd\n",
    "from pandas import DataFrame\n",
    "import matplotlib.pyplot as plt\n",
    "from bokeh.plotting import figure, output_file, show\n",
    "from sklearn.model_selection import train_test_split\n",
    "from sklearn.linear_model import LinearRegression"
   ]
  },
  {
   "cell_type": "code",
   "execution_count": 3,
   "metadata": {},
   "outputs": [],
   "source": [
    "#Declarando el dataset, toda la información es sacada de \"salarios.csv\"\n",
    "dataset = pd.read_excel(\"dolarRecords.xlsx\")"
   ]
  },
  {
   "cell_type": "code",
   "execution_count": 4,
   "metadata": {},
   "outputs": [
    {
     "name": "stdout",
     "output_type": "stream",
     "text": [
      "       Dia   Compra\n",
      "0     2445  21.4233\n",
      "1     2444  21.1899\n",
      "2     2443  21.1734\n",
      "3     2442  21.4168\n",
      "4     2441  21.4173\n",
      "...    ...      ...\n",
      "2440     5  13.4089\n",
      "2441     4  13.4835\n",
      "2442     3  13.4026\n",
      "2443     2  13.4455\n",
      "2444     1  13.4330\n",
      "\n",
      "[2445 rows x 2 columns]\n"
     ]
    }
   ],
   "source": [
    "#El dataset, así es originalmente.\n",
    "print(dataset)"
   ]
  },
  {
   "cell_type": "code",
   "execution_count": 5,
   "metadata": {},
   "outputs": [],
   "source": [
    "#Ordenando el dataset por salario por orden ascendente.\n",
    "ordenamiento = dataset.sort_values(by=['Dia'], ignore_index=True)"
   ]
  },
  {
   "cell_type": "code",
   "execution_count": 6,
   "metadata": {},
   "outputs": [],
   "source": [
    "#Arrays de una sola dimensión {PARA LA REGRESIÓN POLIMONIAL}\n",
    "polX = dataset.iloc[:, 0]\n",
    "polY = dataset.iloc[:, 1]"
   ]
  },
  {
   "cell_type": "code",
   "execution_count": 7,
   "metadata": {},
   "outputs": [
    {
     "data": {
      "image/png": "[encoded data removed]",
      "text/plain": [
       "<Figure size 432x288 with 1 Axes>"
      ]
     },
     "metadata": {
      "needs_background": "light"
     },
     "output_type": "display_data"
    }
   ],
   "source": [
    "#Regresión Polimonial. No se han tomado en cuenta los datos de prueba.\n",
    "mymodel = np.poly1d(np.polyfit(polX, polY, 3))\n",
    "\n",
    "myline = np.linspace(1, 2500, 2000)\n",
    "\n",
    "plt.scatter(polX, polY)\n",
    "plt.plot(myline, mymodel(myline), c=\"red\")\n",
    "plt.title('Dias/Valor del Dolar')\n",
    "plt.xlabel('Dias')\n",
    "plt.ylabel('Valor del dolar')\n",
    "plt.show()"
   ]
  },
  {
   "cell_type": "code",
   "execution_count": 8,
   "metadata": {},
   "outputs": [
    {
     "name": "stdout",
     "output_type": "stream",
     "text": [
      "           4             3            2\n",
      "5.923e-10 x - 3.268e-06 x + 0.007129 x + 11.09 x\n"
     ]
    }
   ],
   "source": [
    "print(mymodel)"
   ]
  }
 ],
 "metadata": {
  "kernelspec": {
   "display_name": "Python 3",
   "language": "python",
   "name": "python3"
  },
  "language_info": {
   "codemirror_mode": {
    "name": "ipython",
    "version": 3
   },
   "file_extension": ".py",
   "mimetype": "text/x-python",
   "name": "python",
   "nbconvert_exporter": "python",
   "pygments_lexer": "ipython3",
   "version": "3.8.3"
  }
 },
 "nbformat": 4,
 "nbformat_minor": 4
}
