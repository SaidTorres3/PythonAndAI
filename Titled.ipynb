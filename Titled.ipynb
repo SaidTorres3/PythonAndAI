{
 "cells": [
  {
   "cell_type": "code",
   "execution_count": 14,
   "metadata": {},
   "outputs": [],
   "source": [
    "import numpy as np"
   ]
  },
  {
   "cell_type": "code",
   "execution_count": 24,
   "metadata": {
    "scrolled": true
   },
   "outputs": [],
   "source": [
    "listaDesordenada = [(\"Pedrito\", 23),(\"Juan\", 56),(\"Carlos\", 36),(\"Manuel\", 22),(\"Angel\", 27),(\"Miguel\", 37),(\"David\", 6),(\"Alejandro\", 57),(\"Armando\", 19)]\n",
    "cabezeras = [(\"Nombre\",\"S10\"),(\"Edad\", int)]\n",
    "\n",
    "lista = np.array(listaDesordenada, dtype=cabezeras)"
   ]
  },
  {
   "cell_type": "code",
   "execution_count": 29,
   "metadata": {},
   "outputs": [
    {
     "data": {
      "text/plain": [
       "array([(b'Alejandro', 57), (b'Angel', 27), (b'Armando', 19),\n",
       "       (b'Carlos', 36), (b'David',  6), (b'Juan', 56), (b'Manuel', 22),\n",
       "       (b'Miguel', 37), (b'Pedrito', 23)],\n",
       "      dtype=[('Nombre', 'S10'), ('Edad', '<i4')])"
      ]
     },
     "execution_count": 29,
     "metadata": {},
     "output_type": "execute_result"
    }
   ],
   "source": [
    "np.sort(lista, order='Nombre')"
   ]
  },
  {
   "cell_type": "code",
   "execution_count": 22,
   "metadata": {},
   "outputs": [
    {
     "data": {
      "text/plain": [
       "array(['Pedrito', '56'], dtype='<U9')"
      ]
     },
     "execution_count": 22,
     "metadata": {},
     "output_type": "execute_result"
    }
   ],
   "source": [
    "np.diag (listaDesordenada)\n",
    "\n"
   ]
  },
  {
   "cell_type": "code",
   "execution_count": null,
   "metadata": {},
   "outputs": [],
   "source": []
  }
 ],
 "metadata": {
  "kernelspec": {
   "display_name": "Python 3",
   "language": "python",
   "name": "python3"
  },
  "language_info": {
   "codemirror_mode": {
    "name": "ipython",
    "version": 3
   },
   "file_extension": ".py",
   "mimetype": "text/x-python",
   "name": "python",
   "nbconvert_exporter": "python",
   "pygments_lexer": "ipython3",
   "version": "3.8.3"
  }
 },
 "nbformat": 4,
 "nbformat_minor": 4
}
